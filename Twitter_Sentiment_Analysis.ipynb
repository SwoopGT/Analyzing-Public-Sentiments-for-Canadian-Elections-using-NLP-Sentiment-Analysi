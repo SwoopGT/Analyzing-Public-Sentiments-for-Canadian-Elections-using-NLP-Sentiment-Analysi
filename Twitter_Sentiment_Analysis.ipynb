{
  "nbformat": 4,
  "nbformat_minor": 0,
  "metadata": {
    "colab": {
      "name": "Twitter Sentiment Analysis 2 Libs.ipynb",
      "provenance": []
    },
    "kernelspec": {
      "name": "python3",
      "display_name": "Python 3"
    }
  },
  "cells": [
    {
      "cell_type": "markdown",
      "metadata": {
        "id": "76kq7LRPy3Pr",
        "colab_type": "text"
      },
      "source": [
        "### Importing Libraries"
      ]
    },
    {
      "cell_type": "code",
      "metadata": {
        "id": "Uq6nqlUpywGy",
        "colab_type": "code",
        "colab": {
          "base_uri": "https://localhost:8080/",
          "height": 73
        },
        "outputId": "a049ec58-5d89-482d-b8d8-128623547291"
      },
      "source": [
        "import re                                # Regular expressions for cleaning the tweets\n",
        "import tweepy                            # Twitter API library\n",
        "from tweepy import OAuthHandler          # Authorization for the developer twitter account\n",
        "import matplotlib.pyplot as plt          # Plotting the graphs\n",
        "import numpy as np        \n",
        "import pandas as pd\n",
        "import math\n",
        "import time\n",
        "import nltk                              # Natural Language Tool Kit\n",
        "from nltk.sentiment.vader import SentimentIntensityAnalyzer as SIA  # Sentiment Analysis from NLTK library\n",
        "from textblob import TextBlob            # TextBlob library"
      ],
      "execution_count": 1,
      "outputs": [
        {
          "output_type": "stream",
          "text": [
            "/usr/local/lib/python3.6/dist-packages/nltk/twitter/__init__.py:20: UserWarning: The twython library has not been installed. Some functionality from the twitter package will not be available.\n",
            "  warnings.warn(\"The twython library has not been installed. \"\n"
          ],
          "name": "stderr"
        }
      ]
    },
    {
      "cell_type": "markdown",
      "metadata": {
        "id": "LK4khr6hfImp",
        "colab_type": "text"
      },
      "source": [
        "### Downloading NLTK Lexicon\n",
        "##### Contains the sentiment values for NLTK Sentiment Analysis"
      ]
    },
    {
      "cell_type": "code",
      "metadata": {
        "id": "t4GqYDaAdFHA",
        "colab_type": "code",
        "colab": {
          "base_uri": "https://localhost:8080/",
          "height": 71
        },
        "outputId": "a72a6018-e306-4fa9-8a33-2331ed5e9f7b"
      },
      "source": [
        "# Lexicon for sentiment analysis\n",
        "nltk.download('vader_lexicon')"
      ],
      "execution_count": 2,
      "outputs": [
        {
          "output_type": "stream",
          "text": [
            "[nltk_data] Downloading package vader_lexicon to /root/nltk_data...\n",
            "[nltk_data]   Package vader_lexicon is already up-to-date!\n"
          ],
          "name": "stdout"
        },
        {
          "output_type": "execute_result",
          "data": {
            "text/plain": [
              "True"
            ]
          },
          "metadata": {
            "tags": []
          },
          "execution_count": 2
        }
      ]
    },
    {
      "cell_type": "markdown",
      "metadata": {
        "id": "sbySUO-DzCIU",
        "colab_type": "text"
      },
      "source": [
        "### Importing Twitter Credentials"
      ]
    },
    {
      "cell_type": "code",
      "metadata": {
        "id": "JvXXV5rjy-1H",
        "colab_type": "code",
        "colab": {}
      },
      "source": [
        "# Load the credentials for the twitter developer account\n",
        "import twitter_credentials"
      ],
      "execution_count": 0,
      "outputs": []
    },
    {
      "cell_type": "markdown",
      "metadata": {
        "id": "LOOjiFRizSgk",
        "colab_type": "text"
      },
      "source": [
        "### Setting up authorization  and API object"
      ]
    },
    {
      "cell_type": "code",
      "metadata": {
        "id": "zPSelO3YzQE1",
        "colab_type": "code",
        "colab": {}
      },
      "source": [
        "auth = tweepy.OAuthHandler(twitter_credentials.CONSUMER_KEY, twitter_credentials.CONSUMER_SECRET)\n",
        "\n",
        "auth.set_access_token(twitter_credentials.ACCESS_TOKEN, twitter_credentials.ACCESS_TOKEN_SECRET)\n",
        "\n",
        "api = tweepy.API(auth)"
      ],
      "execution_count": 0,
      "outputs": []
    },
    {
      "cell_type": "markdown",
      "metadata": {
        "id": "VhLOhuQkEqMk",
        "colab_type": "text"
      },
      "source": [
        "### Defining a function to fetch tweets and remove retweets"
      ]
    },
    {
      "cell_type": "code",
      "metadata": {
        "id": "DsK5n0G1zW8h",
        "colab_type": "code",
        "colab": {}
      },
      "source": [
        "# Search query is the term you want to search\n",
        "# Count refers to number of tweets to search\n",
        "\n",
        "def fetch_tweets(search_query,count):\n",
        "\n",
        "    search_query = search_query + \" -filter:retweets\"\n",
        "    public_tweets = api.search(q = search_query,count = count)\n",
        "    return public_tweets\n"
      ],
      "execution_count": 0,
      "outputs": []
    },
    {
      "cell_type": "markdown",
      "metadata": {
        "id": "mXDGLK6AZzlc",
        "colab_type": "text"
      },
      "source": [
        "### Define a function to clean the tweets "
      ]
    },
    {
      "cell_type": "code",
      "metadata": {
        "id": "3Mk6YJAEZzT1",
        "colab_type": "code",
        "colab": {}
      },
      "source": [
        "# To clean punctuation marks, special characters and @ signs\n",
        "\n",
        "def clean_tweets(tweet):\n",
        "    string_tweet = str(tweet.text)\n",
        "    clean_tw  = ' '.join(re.sub(\"(@[A-Za-z0-9]+)|([^0-9A-Za-z \\t]) |(\\w+:\\/\\/\\S+)\", \" \", string_tweet).split())\n",
        "    return clean_tw"
      ],
      "execution_count": 0,
      "outputs": []
    },
    {
      "cell_type": "markdown",
      "metadata": {
        "id": "FekAv060Z0CD",
        "colab_type": "text"
      },
      "source": [
        "### Define a function to obtain user for the tweet"
      ]
    },
    {
      "cell_type": "code",
      "metadata": {
        "id": "FmKhbChRZ0S8",
        "colab_type": "code",
        "colab": {}
      },
      "source": [
        "# Obtaining user\n",
        "\n",
        "def create_user(tweet):\n",
        "    user = api.get_user(screen_name = tweet.user.screen_name)\n",
        "    return user\n"
      ],
      "execution_count": 0,
      "outputs": []
    },
    {
      "cell_type": "markdown",
      "metadata": {
        "id": "OzHZ9bUKSBgO",
        "colab_type": "text"
      },
      "source": [
        "### Define a function to obtain sentiment using NLTK library"
      ]
    },
    {
      "cell_type": "code",
      "metadata": {
        "id": "bvnhwn1aaoaW",
        "colab_type": "code",
        "colab": {}
      },
      "source": [
        "# Sentiment Analysis\n",
        "\n",
        "def sentiment_nltk(clean_tw):\n",
        "  sia = SIA()\n",
        "  analysis_nltk = sia.polarity_scores(clean_tw)\n",
        "  return analysis_nltk"
      ],
      "execution_count": 0,
      "outputs": []
    },
    {
      "cell_type": "markdown",
      "metadata": {
        "id": "hjbDoMK0j93Y",
        "colab_type": "text"
      },
      "source": [
        "### Define a function to obtain sentiment using TextBlob library"
      ]
    },
    {
      "cell_type": "code",
      "metadata": {
        "id": "z2Hhg1Q1jgsP",
        "colab_type": "code",
        "colab": {}
      },
      "source": [
        "# Sentiment Analysis\n",
        "\n",
        "def sentiment_textblob(clean_tw):\n",
        "    analysis_blob = TextBlob(clean_tw)\n",
        "    return analysis_blob"
      ],
      "execution_count": 0,
      "outputs": []
    },
    {
      "cell_type": "markdown",
      "metadata": {
        "id": "ZBxErfeOSef_",
        "colab_type": "text"
      },
      "source": [
        "### Define a function to display details of the analysis"
      ]
    },
    {
      "cell_type": "code",
      "metadata": {
        "id": "T0a3Jo3AgKrI",
        "colab_type": "code",
        "colab": {}
      },
      "source": [
        "def display_details():\n",
        "  \n",
        "    # Display the details of the tweet\n",
        "    print(\"Tweet text :\",clean_tw)\n",
        "    print(\"Timestamp :\",tweet.created_at)\n",
        "    print(\"ID :\",user.id)\n",
        "    print(\"Screen Name :\", user.screen_name)\n",
        "    print(\"Location :\",user.location)\n",
        "    print(\"Followers :\",user.followers_count)\n",
        "    print(\"Number of Tweets :\",user.statuses_count)\n",
        "    print(\"Retweet count :\",tweet.retweet_count)\n",
        "\n",
        "    # Sentiments Obtained\n",
        "    print(\"Sentiment predicted by TextBlob:\",analysis_blob.sentiment)\n",
        "    print(\"Sentiment predicted by NLTK:\",analysis_nltk[\"compound\"])\n",
        "\n",
        "    # Display user weight\n",
        "    print (\"User Weight (TextBlob):\", user_weight_blob)\n",
        "    print (\"User Weight (NLTK):\", user_weight_nltk)\n",
        "\n",
        "    # Formatting\n",
        "    print(\"-----------------------------------------------------------------------------------------------------------------------------------------------------------------\")\n",
        "    print(\"                                                                                                                                                                 \")    "
      ],
      "execution_count": 0,
      "outputs": []
    },
    {
      "cell_type": "markdown",
      "metadata": {
        "id": "D6c3oJfMStu4",
        "colab_type": "text"
      },
      "source": [
        "### Define a function to obtain tweet score\n"
      ]
    },
    {
      "cell_type": "code",
      "metadata": {
        "id": "gcoBHrN5gyd_",
        "colab_type": "code",
        "colab": {}
      },
      "source": [
        "# Scores\n",
        "\n",
        "# Tweet score - Assigns a score depending upon the number of tweets a user made - (range 0 to 1)\n",
        "\n",
        "def tweet_scores(user):\n",
        "\n",
        "    if user.statuses_count < 500:\n",
        "      tweet_score  = 0.1\n",
        "    elif user.statuses_count >=500 or user.statuses_count < 1000:\n",
        "      tweet_score  = 0.2\n",
        "    elif user.statuses_count >=1000 or user.statuses_count < 2000:\n",
        "      tweet_score  = 0.3\n",
        "    elif user.statuses_count >=2000 or user.statuses_count < 5000:\n",
        "      tweet_score  = 0.4\n",
        "    elif user.statuses_count >=5000 or user.statuses_count < 10000:\n",
        "      tweet_score  = 0.5\n",
        "    elif user.statuses_count >=10000 or user.statuses_count < 20000:\n",
        "      tweet_score  = 0.6\n",
        "    elif user.statuses_count >=20000 or user.statuses_count < 50000:\n",
        "      tweet_score  = 0.7\n",
        "    elif user.statuses_count >=50000 or user.statuses_count < 100000:\n",
        "      tweet_score  = 0.8\n",
        "    elif user.statuses_count >=100000 or user.statuses_count < 200000:\n",
        "      tweet_score  = 0.9\n",
        "    else: \n",
        "      tweet_score  = 1.0\n",
        "\n",
        "    return tweet_score"
      ],
      "execution_count": 0,
      "outputs": []
    },
    {
      "cell_type": "code",
      "metadata": {
        "id": "TbGCFJgjssyf",
        "colab_type": "code",
        "colab": {}
      },
      "source": [
        "# Scores\n",
        "\n",
        "# Follower Score - Assigns a score depending upon the number of followers a user has - (range 0 to 1)\n",
        "\n",
        "def follower_scores(user):\n",
        "\n",
        "    if user.followers_count < 500:\n",
        "      follower_score  = 0.1\n",
        "    elif user.followers_count >=500 or user.followers_count < 1000:\n",
        "      follower_score  = 0.2\n",
        "    elif user.followers_count >=1000 or user.followers_count < 2000:\n",
        "      follower_score  = 0.3\n",
        "    elif user.followers_count >=2000 or user.followers_count < 5000:\n",
        "      follower_score  = 0.4\n",
        "    elif user.followers_count >=5000 or user.followers_count < 10000:\n",
        "      follower_score  = 0.5\n",
        "    elif user.followers_count >=10000 or user.followers_count < 20000:\n",
        "      follower_score  = 0.6\n",
        "    elif user.followers_count >=20000 or user.followers_count < 50000:\n",
        "      follower_score  = 0.7\n",
        "    elif user.followers_count >=50000 or user.followers_count < 100000:\n",
        "      follower_score  = 0.8\n",
        "    elif user.followers_count >=100000 or user.followers_count < 200000:\n",
        "      follower_score  = 0.9\n",
        "    else:\n",
        "      follower_score  = 1.0\n",
        "\n",
        "    return follower_score"
      ],
      "execution_count": 0,
      "outputs": []
    },
    {
      "cell_type": "code",
      "metadata": {
        "id": "vJTiciOatgsl",
        "colab_type": "code",
        "colab": {}
      },
      "source": [
        "# Score\n",
        "\n",
        "# Retweet score- Assigns a score depending upon the number of times the tweet was retweeted- (range 0 to 1) \n",
        "\n",
        "def retweet_scores(tweet):\n",
        "\n",
        "    if tweet.retweet_count < 100:\n",
        "      retweet_score  = 0.1\n",
        "    elif tweet.retweet_count >=100 or tweet.retweet_count < 200:\n",
        "      retweet_score  = 0.2\n",
        "    elif tweet.retweet_count >=200 or tweet.retweet_count < 500:\n",
        "      retweet_score  = 0.3\n",
        "    elif tweet.retweet_count >=500 or tweet.retweet_count < 1000:\n",
        "      retweet_score  = 0.4\n",
        "    elif tweet.retweet_count >=1000 or tweet.retweet_count < 2000:\n",
        "      retweet_score  = 0.5\n",
        "    elif tweet.retweet_count >=2000 or tweet.retweet_count < 5000:\n",
        "      retweet_score  = 0.6\n",
        "    elif tweet.retweet_count >=5000 or tweet.retweet_count < 10000:\n",
        "      retweet_score  = 0.7\n",
        "    elif tweet.retweet_count >=10000 or tweet.retweet_count < 20000:\n",
        "      retweet_score  = 0.8\n",
        "    elif tweet.retweet_count >=20000 or tweet.retweet_count < 50000:\n",
        "      retweet_score  = 0.9\n",
        "    else: \n",
        "      retweet_score  = 1.0\n",
        "    \n",
        "    return retweet_score"
      ],
      "execution_count": 0,
      "outputs": []
    },
    {
      "cell_type": "markdown",
      "metadata": {
        "id": "D1kJrccITLon",
        "colab_type": "text"
      },
      "source": [
        "### Define a function to calculate weights using Text Blob"
      ]
    },
    {
      "cell_type": "code",
      "metadata": {
        "id": "1CZN-xRxhil4",
        "colab_type": "code",
        "colab": {}
      },
      "source": [
        "def weight_assignment_blob(analysis_blob,follower_score,tweet_score,retweet_score,negative_tweets_blob,positive_tweets_blob,neutral_tweets_blob,total_weight_negative_blob,total_weight_positive_blob):\n",
        "    # Assigning the weights based on polarity\n",
        "\n",
        "    if analysis_blob.sentiment.polarity > 0 :\n",
        "\n",
        "      print ('According to TextBlob this tweet has a positive sentiment')\n",
        "\n",
        "      # Calculate tweet counts\n",
        "      positive_tweets_blob = positive_tweets_blob + 1\n",
        "      negative_tweets_blob = negative_tweets_blob + 0\n",
        "      neutral_tweets_blob = neutral_tweets_blob + 0\n",
        "\n",
        "      # Calculate user weight\n",
        "      user_weight_basic_blob = (follower_score + tweet_score + retweet_score)/3\n",
        "      user_weight_blob = user_weight_basic_blob * abs(analysis_blob.sentiment.polarity)\n",
        "\n",
        "      # Calculate total weight\n",
        "      total_weight_positive_blob = total_weight_positive_blob + user_weight_blob\n",
        "      total_weight_negative_blob = total_weight_negative_blob + 0\n",
        "\n",
        "      # Return the results     \n",
        "      return user_weight_blob,total_weight_positive_blob,total_weight_negative_blob,positive_tweets_blob,negative_tweets_blob,neutral_tweets_blob\n",
        "\n",
        "    elif analysis_blob.sentiment.polarity < 0 :\n",
        "\n",
        "      print ('According to TextBlob this tweet has a negative sentiment')\n",
        "\n",
        "      # Calculate tweet counts\n",
        "      positive_tweets_blob = positive_tweets_blob + 0\n",
        "      negative_tweets_blob = negative_tweets_blob + 1\n",
        "      neutral_tweets_blob = neutral_tweets_blob + 0\n",
        "\n",
        "      # Calculate user weight\n",
        "      user_weight_basic_blob = ((follower_score + tweet_score + retweet_score)/3)\n",
        "      user_weight_blob = user_weight_basic_blob * abs(analysis_blob.sentiment.polarity)\n",
        "\n",
        "      # Calculate total weight\n",
        "      total_weight_positive_blob = total_weight_positive_blob + 0\n",
        "      total_weight_negative_blob = total_weight_negative_blob + user_weight_blob\n",
        "\n",
        "      # Return the results   \n",
        "      return user_weight_blob,total_weight_positive_blob,total_weight_negative_blob,positive_tweets_blob,negative_tweets_blob,neutral_tweets_blob\n",
        "\n",
        "    else:\n",
        "\n",
        "      print ('According to TextBlob this tweet has a neutral sentiment')\n",
        "\n",
        "      # Calculate tweet counts\n",
        "      positive_tweets_blob = positive_tweets_blob + 0\n",
        "      negative_tweets_blob = negative_tweets_blob + 0\n",
        "      neutral_tweets_blob = neutral_tweets_blob + 1\n",
        "\n",
        "      # Calculate user weight\n",
        "      user_weight_basic_blob = 0.0\n",
        "      user_weight_blob = 0.0\n",
        "\n",
        "      # Calculate total weight\n",
        "      total_weight_positive_blob = total_weight_positive_blob + user_weight_blob\n",
        "      total_weight_negative_blob = total_weight_negative_blob + user_weight_blob\n",
        "\n",
        "      # Return the results  \n",
        "      return user_weight_blob,total_weight_positive_blob,total_weight_negative_blob,positive_tweets_blob,negative_tweets_blob,neutral_tweets_blob"
      ],
      "execution_count": 0,
      "outputs": []
    },
    {
      "cell_type": "markdown",
      "metadata": {
        "id": "rBX1BF_cUyL3",
        "colab_type": "text"
      },
      "source": [
        "### Define a function to calculate weights using NLTK"
      ]
    },
    {
      "cell_type": "code",
      "metadata": {
        "id": "bLuJl0CWhERp",
        "colab_type": "code",
        "colab": {}
      },
      "source": [
        "def weight_assignment_nltk(analysis_nltk,follower_score,tweet_score,retweet_score,negative_tweets_nltk,positive_tweets_nltk,neutral_tweets_nltk,total_weight_negative_nltk,total_weight_positive_nltk):\n",
        "    # Assigning the weights based on polarity\n",
        "\n",
        "    if analysis_nltk[\"compound\"] > 0.20 :\n",
        "\n",
        "      # Calculate tweet counts\n",
        "      print ('According to NLTK this tweet has a positive sentiment')\n",
        "      positive_tweets_nltk = positive_tweets_nltk + 1\n",
        "      negative_tweets_nltk = negative_tweets_nltk + 0\n",
        "      neutral_tweets_nltk = neutral_tweets_nltk + 0\n",
        "\n",
        "      # Calculate user weight\n",
        "      user_weight_basic_nltk = (follower_score + tweet_score + retweet_score)/3\n",
        "      user_weight_nltk = user_weight_basic_nltk * abs(analysis_nltk[\"compound\"])\n",
        "\n",
        "      # Calculate total weight\n",
        "      total_weight_positive_nltk = total_weight_positive_nltk + user_weight_nltk\n",
        "      total_weight_negative_nltk = total_weight_negative_nltk + 0\n",
        "\n",
        "      # Return the results   \n",
        "      return user_weight_nltk,total_weight_positive_nltk,total_weight_negative_nltk,positive_tweets_nltk,negative_tweets_nltk,neutral_tweets_nltk\n",
        "\n",
        "    elif analysis_nltk[\"compound\"] < 0.20 :\n",
        "\n",
        "      # Calculate tweet counts\n",
        "      print ('According to NLTK this tweet has a negative sentiment')\n",
        "      positive_tweets_nltk = negative_tweets_nltk + 0\n",
        "      negative_tweets_nltk = negative_tweets_nltk + 1\n",
        "      neutral_tweets_nltk = neutral_tweets_nltk + 0\n",
        "\n",
        "      # Calculate user weight\n",
        "      user_weight_basic_nltk = ((follower_score + tweet_score + retweet_score)/3)\n",
        "      user_weight_nltk = user_weight_basic_nltk * abs(analysis_nltk[\"compound\"])\n",
        "\n",
        "      # Calculate total weight\n",
        "      total_weight_positive_nltk = total_weight_positive_nltk + 0\n",
        "      total_weight_negative_nltk = total_weight_negative_nltk + user_weight_nltk\n",
        "\n",
        "      # Return the results\n",
        "      return user_weight_nltk,total_weight_positive_nltk,total_weight_negative_nltk,positive_tweets_nltk,negative_tweets_nltk,neutral_tweets_nltk\n",
        "\n",
        "    else:\n",
        "\n",
        "      print ('According to NLTK this tweet has a neutral sentiment')\n",
        "\n",
        "      # Calculate tweet counts\n",
        "      positive_tweets_nltk = negative_tweets_nltk + 0\n",
        "      negative_tweets_nltk = negative_tweets_nltk + 0\n",
        "      neutral_tweets_nltk = neutral_tweets_nltk + 1\n",
        "\n",
        "      # Calculate user weight\n",
        "      user_weight_basic_nltk = 0.0\n",
        "      user_weight_nltk = 0.0\n",
        "\n",
        "      # Calculate total weight      \n",
        "      total_weight_positive_nltk = total_weight_positive_nltk + user_weight_nltk\n",
        "      total_weight_negative_nltk = total_weight_negative_nltk + user_weight_nltk\n",
        "\n",
        "      # Return the results\n",
        "      return user_weight_nltk,total_weight_positive_nltk,total_weight_negative_nltk,positive_tweets_nltk,negative_tweets_nltk,neutral_tweets_nltk"
      ],
      "execution_count": 0,
      "outputs": []
    },
    {
      "cell_type": "markdown",
      "metadata": {
        "id": "AjFY5wNNWlYp",
        "colab_type": "text"
      },
      "source": [
        "### Define a function to obtain the overall sentiment of the tweets using Text Blob"
      ]
    },
    {
      "cell_type": "code",
      "metadata": {
        "id": "zxTdzfTgcPEu",
        "colab_type": "code",
        "colab": {}
      },
      "source": [
        "def overall_sentiment_blob (total_weight_positive_blob,total_weight_negative_blob,positive_tweets_blob,negative_tweets_blob,neutral_tweets_blob):\n",
        "  \n",
        "  # Display Aggregated Weights and Tweets\n",
        "  print (\"Text Blob Results\")\n",
        "  print (\"Total weight positive :\",total_weight_positive_blob)\n",
        "  print (\"Total weight negative :\",total_weight_negative_blob)\n",
        "  print (\"Positive tweets :\",positive_tweets_blob)\n",
        "  print (\"Negative tweets :\",negative_tweets_blob)\n",
        "  print (\"Neutral tweets :\",neutral_tweets_blob)\n",
        "\n",
        "  # Overall sentiment\n",
        "\n",
        "  if total_weight_positive_blob > total_weight_negative_blob :\n",
        "    print (\"According to TextBlob overall sentiment of the people was Positive\")\n",
        "  elif total_weight_positive_blob < total_weight_negative_blob :\n",
        "    print (\"According to TextBlob overall sentiment of the people was Negative\")\n",
        "  else:\n",
        "    print (\"According to TextBlob overall sentiment of the people was Neutral\")\n"
      ],
      "execution_count": 0,
      "outputs": []
    },
    {
      "cell_type": "markdown",
      "metadata": {
        "id": "18Jj_QaEYUGC",
        "colab_type": "text"
      },
      "source": [
        "### Define a function to obtain the overall sentiment of the tweets using NLTK"
      ]
    },
    {
      "cell_type": "code",
      "metadata": {
        "id": "XnGgZhloB1jk",
        "colab_type": "code",
        "colab": {}
      },
      "source": [
        "def overall_sentiment_nltk (total_weight_positive_nltk,total_weight_negative_nltk,positive_tweets_nltk,negative_tweets_nltk,neutral_tweets_nltk):\n",
        "  \n",
        "  # Display Aggregated Weights and Tweets\n",
        "  print (\"NLTK Results\")\n",
        "  print (\"Total weight positive :\",total_weight_positive_nltk)\n",
        "  print (\"Total weight negative :\",total_weight_negative_nltk)\n",
        "  print (\"Positive tweets :\",positive_tweets_nltk)\n",
        "  print (\"Negative tweets :\",negative_tweets_nltk)\n",
        "  print (\"Neutral tweets :\",neutral_tweets_nltk)\n",
        "\n",
        "  # Overall sentiment\n",
        "\n",
        "  if total_weight_positive_nltk > total_weight_negative_nltk :\n",
        "    print (\"According to NLTK overall sentiment of the people was Positive\")\n",
        "  elif total_weight_positive_nltk < total_weight_negative_nltk :\n",
        "    print (\"According to NLTK overall sentiment of the people was Negative\")\n",
        "  else:\n",
        "    print (\"According to NLTK overall sentiment of the people was Neutral\")\n",
        "  "
      ],
      "execution_count": 0,
      "outputs": []
    },
    {
      "cell_type": "markdown",
      "metadata": {
        "id": "klXPbVAOYeNB",
        "colab_type": "text"
      },
      "source": [
        "### Define a function to obtain the total tweets"
      ]
    },
    {
      "cell_type": "code",
      "metadata": {
        "id": "pR7wGA2NOdpk",
        "colab_type": "code",
        "colab": {}
      },
      "source": [
        "def total_tweets(positive_tweets_blob,negative_tweets_blob,neutral_tweets_blob,positive_tweets_nltk,negative_tweets_nltk,neutral_tweets_nltk):\n",
        "  # Total tweets\n",
        "  total_tweets_blob = positive_tweets_blob + negative_tweets_blob + neutral_tweets_blob\n",
        "  total_tweets_nltk = positive_tweets_nltk + negative_tweets_nltk + neutral_tweets_nltk\n",
        "\n",
        "  return total_tweets_blob,total_tweets_nltk\n"
      ],
      "execution_count": 0,
      "outputs": []
    },
    {
      "cell_type": "markdown",
      "metadata": {
        "id": "DdF0uhqtZ7gs",
        "colab_type": "text"
      },
      "source": [
        "### Define a function to visualize the results of the analysis using Text Blob"
      ]
    },
    {
      "cell_type": "code",
      "metadata": {
        "id": "fMWY0pDUCb4b",
        "colab_type": "code",
        "colab": {}
      },
      "source": [
        "# Pie chart\n",
        "\n",
        "def visualize_blob(positive_tweets_blob,negative_tweets_blob,total_tweets_blob):\n",
        "  labels = ['Positive [' + str(positive_tweets_blob*100/total_tweets_blob) + '%]','Neutral [' + str(neutral_tweets_blob*100/total_tweets_blob) + '%]','Negative [' + str(negative_tweets_blob*100/total_tweets_blob) + '%]']\n",
        "  sizes = [(positive_tweets_blob/total_tweets_blob), (neutral_tweets_blob/total_tweets_blob), (negative_tweets_blob/total_tweets_blob)]\n",
        "  colors = ['yellowgreen', 'gold', 'red']\n",
        "  patches, texts = plt.pie(sizes, colors=colors, startangle=90)\n",
        "  plt.legend(patches, labels, loc=\"best\")\n",
        "  plt.title('Sentiments Text Blob')\n",
        "  plt.axis('equal')\n",
        "  plt.tight_layout()\n",
        "  plt.show()"
      ],
      "execution_count": 0,
      "outputs": []
    },
    {
      "cell_type": "markdown",
      "metadata": {
        "id": "j9lmJ2a7aFjE",
        "colab_type": "text"
      },
      "source": [
        "### Define a function to visualize the results of the analysis using NLTK"
      ]
    },
    {
      "cell_type": "code",
      "metadata": {
        "id": "HikhPe9iIItl",
        "colab_type": "code",
        "colab": {}
      },
      "source": [
        "# Pie chart\n",
        "\n",
        "def visualize_nltk(positive_tweets_nltk,negative_tweets_nltk,total_tweets_nltk):\n",
        "  labels = ['Positive [' + str(positive_tweets_nltk*100/total_tweets_nltk) + '%]','Neutral [' + str(neutral_tweets_nltk*100/total_tweets_nltk) + '%]','Negative [' + str(negative_tweets_nltk*100/total_tweets_nltk) + '%]']\n",
        "  sizes = [(positive_tweets_nltk/total_tweets_nltk), (neutral_tweets_nltk/total_tweets_nltk), (negative_tweets_nltk/total_tweets_nltk)]\n",
        "  colors = ['yellowgreen', 'gold', 'red']\n",
        "  patches, texts = plt.pie(sizes, colors=colors, startangle=90)\n",
        "  plt.legend(patches, labels, loc=\"best\")\n",
        "  plt.title('Sentiments NLTK')\n",
        "  plt.axis('equal')\n",
        "  plt.tight_layout()\n",
        "  plt.show()"
      ],
      "execution_count": 0,
      "outputs": []
    },
    {
      "cell_type": "markdown",
      "metadata": {
        "id": "6mzk27BRV7h2",
        "colab_type": "text"
      },
      "source": [
        "### Call the function to fetch tweets using the search query and the number of tweets required"
      ]
    },
    {
      "cell_type": "code",
      "metadata": {
        "id": "pf1iVGtAbewm",
        "colab_type": "code",
        "colab": {}
      },
      "source": [
        "public_tweets = fetch_tweets(\"trudeau\",10)\n"
      ],
      "execution_count": 0,
      "outputs": []
    },
    {
      "cell_type": "markdown",
      "metadata": {
        "id": "0stR0_21WQ_l",
        "colab_type": "text"
      },
      "source": [
        "### Initialize variables"
      ]
    },
    {
      "cell_type": "code",
      "metadata": {
        "id": "_pvjGVNMhTF5",
        "colab_type": "code",
        "colab": {}
      },
      "source": [
        "total_weight_positive_nltk = 0    # Total weight of positive tweets - NLTK\n",
        "total_weight_negative_nltk = 0    # Total weight of negative tweets - NLTK\n",
        "positive_tweets_nltk = 0          # Number of tweets - NLTK\n",
        "negative_tweets_nltk = 0          # Number of tweets - NLTK\n",
        "neutral_tweets_nltk = 0           # Number of tweets - NLTK\n",
        "\n",
        "total_weight_positive_blob = 0    # Total weight of positive tweets - TextBlob\n",
        "total_weight_negative_blob = 0    # Total weight of negative tweets - TextBlob\n",
        "positive_tweets_blob = 0          # Number of tweets - TextBlob\n",
        "negative_tweets_blob = 0          # Number of tweets - TextBlob\n",
        "neutral_tweets_blob = 0           # Number of tweets - TextBlob"
      ],
      "execution_count": 0,
      "outputs": []
    },
    {
      "cell_type": "markdown",
      "metadata": {
        "id": "6vYU2-p3WZoy",
        "colab_type": "text"
      },
      "source": [
        "### Total Analysis"
      ]
    },
    {
      "cell_type": "code",
      "metadata": {
        "id": "5u00HdDrbrHb",
        "colab_type": "code",
        "colab": {
          "base_uri": "https://localhost:8080/",
          "height": 1000
        },
        "outputId": "6d73c775-8005-4b45-88a2-85596e8fd7ec"
      },
      "source": [
        "for tweet in public_tweets:\n",
        "  user = create_user(tweet)                           # Obtain the user of the tweet\n",
        "  clean_tw = clean_tweets(tweet)                      # Clean the obtained tweet\n",
        "  analysis_blob = sentiment_textblob(clean_tw)        # Obtain the sentiment using TextBlob\n",
        "  analysis_nltk = sentiment_nltk(clean_tw)            # Obtain the sentiment using NLTK\n",
        "  tweet_score = tweet_scores(user)                    # Obtain the tweet score\n",
        "  follower_score = follower_scores(user)              # Obtain the follower score\n",
        "  retweet_score = retweet_scores(tweet)               # Obtain the retweet score\n",
        "  user_weight_blob,total_weight_positive_blob,total_weight_negative_blob,positive_tweets_blob,negative_tweets_blob,neutral_tweets_blob = weight_assignment_blob(analysis_blob,follower_score,tweet_score,retweet_score,negative_tweets_blob,positive_tweets_blob,neutral_tweets_blob,total_weight_negative_blob,total_weight_positive_blob)\n",
        "  user_weight_nltk,total_weight_positive_nltk,total_weight_negative_nltk,positive_tweets_nltk,negative_tweets_nltk,neutral_tweets_nltk = weight_assignment_nltk(analysis_nltk,follower_score,tweet_score,retweet_score,negative_tweets_nltk,positive_tweets_nltk,neutral_tweets_nltk,total_weight_negative_nltk,total_weight_positive_nltk)\n",
        "  display_details()                                   # Display the details of the tweet and user"
      ],
      "execution_count": 23,
      "outputs": [
        {
          "output_type": "stream",
          "text": [
            "According to TextBlob this tweet has a neutral sentiment\n",
            "According to NLTK this tweet has a negative sentiment\n",
            "Tweet text : Les mères et les pères du Québec voyez le sort réserv vos petites filles encore organiser par Trudeau le TRAÎTRE.\n",
            "Timestamp : 2019-11-12 02:36:49\n",
            "ID : 3362966092\n",
            "Screen Name : fern7123\n",
            "Location : \n",
            "Followers : 170\n",
            "Number of Tweets : 5283\n",
            "Retweet count : 0\n",
            "Sentiment predicted by TextBlob: Sentiment(polarity=0.0, subjectivity=0.0)\n",
            "Sentiment predicted by NLTK: 0.0\n",
            "User Weight (TextBlob): 0.0\n",
            "User Weight (NLTK): 0.0\n",
            "-----------------------------------------------------------------------------------------------------------------------------------------------------------------\n",
            "                                                                                                                                                                 \n",
            "According to TextBlob this tweet has a neutral sentiment\n",
            "According to NLTK this tweet has a negative sentiment\n",
            "Tweet text : _faulkner Give it a rest,Doug! Blackface was as political as the conservatives could get.\n",
            "Timestamp : 2019-11-12 02:36:11\n",
            "ID : 109086667\n",
            "Screen Name : oghenx\n",
            "Location : whereverilaymyhead\n",
            "Followers : 22\n",
            "Number of Tweets : 402\n",
            "Retweet count : 0\n",
            "Sentiment predicted by TextBlob: Sentiment(polarity=0.0, subjectivity=0.1)\n",
            "Sentiment predicted by NLTK: 0.0\n",
            "User Weight (TextBlob): 0.0\n",
            "User Weight (NLTK): 0.0\n",
            "-----------------------------------------------------------------------------------------------------------------------------------------------------------------\n",
            "                                                                                                                                                                 \n",
            "According to TextBlob this tweet has a negative sentiment\n",
            "According to NLTK this tweet has a positive sentiment\n",
            "Tweet text : But keep supporting Trudeau you useless piece of media!!!\n",
            "Timestamp : 2019-11-12 02:36:08\n",
            "ID : 36995956\n",
            "Screen Name : mrg1616\n",
            "Location : Kingston, Ontario\n",
            "Followers : 117\n",
            "Number of Tweets : 2878\n",
            "Retweet count : 0\n",
            "Sentiment predicted by TextBlob: Sentiment(polarity=-0.36328125, subjectivity=0.225)\n",
            "Sentiment predicted by NLTK: 0.2444\n",
            "User Weight (TextBlob): 0.0484375\n",
            "User Weight (NLTK): 0.03258666666666667\n",
            "-----------------------------------------------------------------------------------------------------------------------------------------------------------------\n",
            "                                                                                                                                                                 \n",
            "According to TextBlob this tweet has a negative sentiment\n",
            "According to NLTK this tweet has a negative sentiment\n",
            "Tweet text : Trudeau didn't apologize he just said \"we need to work harder he just blam\n",
            "Timestamp : 2019-11-12 02:35:50\n",
            "ID : 999724722689662977\n",
            "Screen Name : phoenix_lazarus\n",
            "Location : \n",
            "Followers : 1421\n",
            "Number of Tweets : 8415\n",
            "Retweet count : 0\n",
            "Sentiment predicted by TextBlob: Sentiment(polarity=-0.1, subjectivity=0.0)\n",
            "Sentiment predicted by NLTK: -0.127\n",
            "User Weight (TextBlob): 0.016666666666666666\n",
            "User Weight (NLTK): 0.021166666666666667\n",
            "-----------------------------------------------------------------------------------------------------------------------------------------------------------------\n",
            "                                                                                                                                                                 \n",
            "According to TextBlob this tweet has a positive sentiment\n",
            "According to NLTK this tweet has a negative sentiment\n",
            "Tweet text : Really Still waiting on Justin Trudeau to suffer those consequences I guess you just have to have the\n",
            "Timestamp : 2019-11-12 02:35:46\n",
            "ID : 1128499689555468288\n",
            "Screen Name : JDeez3\n",
            "Location : \n",
            "Followers : 5\n",
            "Number of Tweets : 1161\n",
            "Retweet count : 0\n",
            "Sentiment predicted by TextBlob: Sentiment(polarity=0.2, subjectivity=0.2)\n",
            "Sentiment predicted by NLTK: -0.5423\n",
            "User Weight (TextBlob): 0.02666666666666667\n",
            "User Weight (NLTK): 0.07230666666666667\n",
            "-----------------------------------------------------------------------------------------------------------------------------------------------------------------\n",
            "                                                                                                                                                                 \n",
            "According to TextBlob this tweet has a neutral sentiment\n",
            "According to NLTK this tweet has a negative sentiment\n",
            "Tweet text : D Cherry is racist Trudeau isn't.\n",
            "Timestamp : 2019-11-12 02:35:43\n",
            "ID : 938461613883084801\n",
            "Screen Name : belarus_rich\n",
            "Location : Not in NBLC\n",
            "Followers : 89\n",
            "Number of Tweets : 8091\n",
            "Retweet count : 0\n",
            "Sentiment predicted by TextBlob: Sentiment(polarity=0.0, subjectivity=0.0)\n",
            "Sentiment predicted by NLTK: -0.6124\n",
            "User Weight (TextBlob): 0.0\n",
            "User Weight (NLTK): 0.08165333333333334\n",
            "-----------------------------------------------------------------------------------------------------------------------------------------------------------------\n",
            "                                                                                                                                                                 \n",
            "According to TextBlob this tweet has a negative sentiment\n",
            "According to NLTK this tweet has a negative sentiment\n",
            "Tweet text : Please don't tell me you believe in Justin Trudeau's apology...thats like as fake as Stampede Wrestling...\n",
            "Timestamp : 2019-11-12 02:35:31\n",
            "ID : 878847449309171712\n",
            "Screen Name : bonjucko123\n",
            "Location : \n",
            "Followers : 6\n",
            "Number of Tweets : 373\n",
            "Retweet count : 0\n",
            "Sentiment predicted by TextBlob: Sentiment(polarity=-0.5, subjectivity=1.0)\n",
            "Sentiment predicted by NLTK: -0.2732\n",
            "User Weight (TextBlob): 0.05000000000000001\n",
            "User Weight (NLTK): 0.027320000000000004\n",
            "-----------------------------------------------------------------------------------------------------------------------------------------------------------------\n",
            "                                                                                                                                                                 \n",
            "According to TextBlob this tweet has a neutral sentiment\n",
            "According to NLTK this tweet has a negative sentiment\n",
            "Tweet text : Probably Trudeau or one of his aids Always forgetting AB.\n",
            "Timestamp : 2019-11-12 02:35:30\n",
            "ID : 517231649\n",
            "Screen Name : SpecialtySeeds\n",
            "Location : Bow Island, Alberta, Canada\n",
            "Followers : 2456\n",
            "Number of Tweets : 6098\n",
            "Retweet count : 0\n",
            "Sentiment predicted by TextBlob: Sentiment(polarity=0.0, subjectivity=0.0)\n",
            "Sentiment predicted by NLTK: 0.0\n",
            "User Weight (TextBlob): 0.0\n",
            "User Weight (NLTK): 0.0\n",
            "-----------------------------------------------------------------------------------------------------------------------------------------------------------------\n",
            "                                                                                                                                                                 \n",
            "According to TextBlob this tweet has a negative sentiment\n",
            "According to NLTK this tweet has a positive sentiment\n",
            "Tweet text : That's a bloody joke Just like Trudeau #TrudeauWorstPM\n",
            "Timestamp : 2019-11-12 02:35:15\n",
            "ID : 802399009411305472\n",
            "Screen Name : AllieGirl49\n",
            "Location : Ontario, Canada\n",
            "Followers : 87\n",
            "Number of Tweets : 1722\n",
            "Retweet count : 0\n",
            "Sentiment predicted by TextBlob: Sentiment(polarity=-0.8, subjectivity=0.9)\n",
            "Sentiment predicted by NLTK: 0.2023\n",
            "User Weight (TextBlob): 0.10666666666666667\n",
            "User Weight (NLTK): 0.026973333333333335\n",
            "-----------------------------------------------------------------------------------------------------------------------------------------------------------------\n",
            "                                                                                                                                                                 \n",
            "According to TextBlob this tweet has a negative sentiment\n",
            "According to NLTK this tweet has a negative sentiment\n",
            "Tweet text : The difference is Trudeau made silly decisions as a young man Don Cherry is 85 years ol\n",
            "Timestamp : 2019-11-12 02:35:01\n",
            "ID : 67391895\n",
            "Screen Name : OrvilleLloyd\n",
            "Location : Toronto\n",
            "Followers : 1240\n",
            "Number of Tweets : 56861\n",
            "Retweet count : 0\n",
            "Sentiment predicted by TextBlob: Sentiment(polarity=-0.2, subjectivity=0.6375)\n",
            "Sentiment predicted by NLTK: 0.0258\n",
            "User Weight (TextBlob): 0.03333333333333333\n",
            "User Weight (NLTK): 0.0043\n",
            "-----------------------------------------------------------------------------------------------------------------------------------------------------------------\n",
            "                                                                                                                                                                 \n"
          ],
          "name": "stdout"
        }
      ]
    },
    {
      "cell_type": "markdown",
      "metadata": {
        "id": "ZQVRkcJ84gYh",
        "colab_type": "text"
      },
      "source": [
        "### Call the function to obtain overall sentiments of the analysis"
      ]
    },
    {
      "cell_type": "code",
      "metadata": {
        "id": "aspxIWypCO5Y",
        "colab_type": "code",
        "colab": {
          "base_uri": "https://localhost:8080/",
          "height": 303
        },
        "outputId": "57232b81-8517-4324-b769-65a75d7b75e2"
      },
      "source": [
        "# Overall sentiment using Text Blob\n",
        "overall_sentiment_blob(total_weight_positive_blob,total_weight_negative_blob,positive_tweets_blob,negative_tweets_blob,neutral_tweets_blob)\n",
        "\n",
        "# Formatting\n",
        "print(\"-----------------------------------------------------------------------------------------------------------------------------------\")\n",
        "print(\"                                                                                                                                   \")\n",
        "\n",
        "# Overall sentiment using NLTK\n",
        "overall_sentiment_nltk(total_weight_positive_nltk,total_weight_negative_nltk,positive_tweets_nltk,negative_tweets_nltk,neutral_tweets_nltk)"
      ],
      "execution_count": 24,
      "outputs": [
        {
          "output_type": "stream",
          "text": [
            "Text Blob Results\n",
            "Total weight positive : 0.02666666666666667\n",
            "Total weight negative : 0.2551041666666667\n",
            "Positive tweets : 1\n",
            "Negative tweets : 5\n",
            "Neutral tweets : 4\n",
            "According to TextBlob overall sentiment of the people was Negative\n",
            "-----------------------------------------------------------------------------------------------------------------------------------\n",
            "                                                                                                                                   \n",
            "NLTK Results\n",
            "Total weight positive : 0.05956\n",
            "Total weight negative : 0.2067466666666667\n",
            "Positive tweets : 7\n",
            "Negative tweets : 8\n",
            "Neutral tweets : 0\n",
            "According to NLTK overall sentiment of the people was Negative\n"
          ],
          "name": "stdout"
        }
      ]
    },
    {
      "cell_type": "markdown",
      "metadata": {
        "id": "RVejMKobZhg0",
        "colab_type": "text"
      },
      "source": [
        "### Obtain the total number of tweets"
      ]
    },
    {
      "cell_type": "code",
      "metadata": {
        "id": "px-qMMuaPDhe",
        "colab_type": "code",
        "colab": {}
      },
      "source": [
        "total_tweets_blob,total_tweets_nltk = total_tweets(positive_tweets_blob,negative_tweets_blob,neutral_tweets_blob,positive_tweets_nltk,negative_tweets_nltk,neutral_tweets_nltk)"
      ],
      "execution_count": 0,
      "outputs": []
    },
    {
      "cell_type": "markdown",
      "metadata": {
        "id": "J7Bv38hsaU0b",
        "colab_type": "text"
      },
      "source": [
        "### Visualize the results of the analysis"
      ]
    },
    {
      "cell_type": "code",
      "metadata": {
        "id": "VzDtUyudJVuJ",
        "colab_type": "code",
        "colab": {
          "base_uri": "https://localhost:8080/",
          "height": 577
        },
        "outputId": "e7184b76-29cb-46a7-b908-0e93b3357cf4"
      },
      "source": [
        "visualize_blob(positive_tweets_blob,negative_tweets_blob,total_tweets_blob)\n",
        "visualize_nltk(positive_tweets_nltk,negative_tweets_nltk,total_tweets_nltk)"
      ],
      "execution_count": 26,
      "outputs": [
        {
          "output_type": "display_data",
          "data": {
            "image/png": "[encoded data removed]",
            "text/plain": [
              "<Figure size 432x288 with 1 Axes>"
            ]
          },
          "metadata": {
            "tags": []
          }
        },
        {
          "output_type": "display_data",
          "data": {
            "image/png": "[encoded data removed]",
            "text/plain": [
              "<Figure size 432x288 with 1 Axes>"
            ]
          },
          "metadata": {
            "tags": []
          }
        }
      ]
    }
  ]
}